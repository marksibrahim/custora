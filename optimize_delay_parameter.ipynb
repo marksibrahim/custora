{
 "cells": [
  {
   "cell_type": "code",
   "execution_count": 7,
   "metadata": {
    "collapsed": false
   },
   "outputs": [],
   "source": [
    "import numpy as np\n",
    "import matplotlib.pyplot as plt\n",
    "import seaborn as sns\n",
    "%matplotlib inline"
   ]
  },
  {
   "cell_type": "code",
   "execution_count": 4,
   "metadata": {
    "collapsed": false
   },
   "outputs": [],
   "source": [
    "import job_queue"
   ]
  },
  {
   "cell_type": "code",
   "execution_count": 5,
   "metadata": {
    "collapsed": false
   },
   "outputs": [
    {
     "name": "stdout",
     "output_type": "stream",
     "text": [
      "delay:  0\n",
      "jobs delayed: 205\n",
      "score:  187.0\n",
      "=========\n",
      "delay:  1\n",
      "jobs delayed: 205\n",
      "score:  187.0\n",
      "=========\n",
      "delay:  2\n",
      "jobs delayed: 101\n",
      "score:  181.0\n",
      "=========\n",
      "delay:  3\n",
      "jobs delayed: 74\n",
      "score:  178.0\n",
      "=========\n",
      "delay:  4\n",
      "jobs delayed: 54\n",
      "score:  177.0\n",
      "=========\n",
      "delay:  5\n",
      "jobs delayed: 43\n",
      "score:  177.0\n",
      "=========\n",
      "delay:  6\n",
      "jobs delayed: 35\n",
      "score:  176.0\n",
      "=========\n",
      "delay:  7\n",
      "jobs delayed: 26\n",
      "score:  176.0\n",
      "=========\n",
      "delay:  8\n",
      "jobs delayed: 28\n",
      "score:  176.0\n",
      "=========\n",
      "delay:  9\n",
      "jobs delayed: 27\n",
      "score:  176.0\n",
      "=========\n",
      "delay:  10\n",
      "jobs delayed: 22\n",
      "score:  176.0\n",
      "=========\n",
      "delay:  11\n",
      "jobs delayed: 18\n",
      "score:  175.0\n",
      "=========\n",
      "delay:  12\n",
      "jobs delayed: 18\n",
      "score:  175.0\n",
      "=========\n",
      "delay:  13\n",
      "jobs delayed: 15\n",
      "score:  175.0\n",
      "=========\n",
      "delay:  14\n",
      "jobs delayed: 14\n",
      "score:  176.0\n",
      "=========\n",
      "delay:  15\n",
      "jobs delayed: 15\n",
      "score:  175.0\n",
      "=========\n",
      "delay:  16\n",
      "jobs delayed: 14\n",
      "score:  175.0\n",
      "=========\n",
      "delay:  17\n",
      "jobs delayed: 11\n",
      "score:  175.0\n",
      "=========\n",
      "delay:  18\n",
      "jobs delayed: 12\n",
      "score:  175.0\n",
      "=========\n",
      "delay:  19\n",
      "jobs delayed: 9\n",
      "score:  175.0\n",
      "=========\n",
      "delay:  20\n",
      "jobs delayed: 12\n",
      "score:  175.0\n",
      "=========\n",
      "delay:  21\n",
      "jobs delayed: 10\n",
      "score:  175.0\n",
      "=========\n",
      "delay:  22\n",
      "jobs delayed: 9\n",
      "score:  174.0\n",
      "=========\n",
      "delay:  23\n",
      "jobs delayed: 10\n",
      "score:  175.0\n",
      "=========\n",
      "delay:  24\n",
      "jobs delayed: 12\n",
      "score:  175.0\n",
      "=========\n",
      "delay:  25\n",
      "jobs delayed: 11\n",
      "score:  175.0\n",
      "=========\n"
     ]
    }
   ],
   "source": [
    "results = []\n",
    "jobs_delayed = []\n",
    "for delay in range(0, 26, 1):\n",
    "    print(\"delay: \", delay)\n",
    "    game = job_queue.Game()\n",
    "    result = game.run_show(delay=delay)\n",
    "    print(\"jobs delayed:\", game.jobs_delayed)\n",
    "    jobs_delayed.append(game.jobs_delayed)\n",
    "    results.append(result[\"total_score\"])\n",
    "    print(\"score: \", result[\"total_score\"])\n",
    "    print(\"=========\")\n",
    "    "
   ]
  },
  {
   "cell_type": "code",
   "execution_count": 9,
   "metadata": {
    "collapsed": false
   },
   "outputs": [
    {
     "data": {
      "text/plain": [
       "<matplotlib.text.Text at 0x11024e5c0>"
      ]
     },
     "execution_count": 9,
     "metadata": {},
     "output_type": "execute_result"
    },
    {
     "data": {
      "image/png": "[encoded data removed]",
      "text/plain": [
       "<matplotlib.figure.Figure at 0x110200198>"
      ]
     },
     "metadata": {},
     "output_type": "display_data"
    }
   ],
   "source": [
    "plt.plot(range(0, 26, 1), results)\n",
    "plt.title(\"Total Score\")\n",
    "plt.xlabel(\"delay\")"
   ]
  },
  {
   "cell_type": "code",
   "execution_count": 11,
   "metadata": {
    "collapsed": false
   },
   "outputs": [
    {
     "data": {
      "text/plain": [
       "<matplotlib.text.Text at 0x1102700b8>"
      ]
     },
     "execution_count": 11,
     "metadata": {},
     "output_type": "execute_result"
    },
    {
     "data": {
      "image/png": "[encoded data removed]",
      "text/plain": [
       "<matplotlib.figure.Figure at 0x1103d92e8>"
      ]
     },
     "metadata": {},
     "output_type": "display_data"
    }
   ],
   "source": [
    "plt.plot(jobs_delayed, results)\n",
    "plt.title(\"Total Score\")\n",
    "plt.xlabel(\"number of jobs delayed\")"
   ]
  },
  {
   "cell_type": "code",
   "execution_count": 4,
   "metadata": {
    "collapsed": true
   },
   "outputs": [],
   "source": [
    "game.create_machine()"
   ]
  },
  {
   "cell_type": "code",
   "execution_count": 5,
   "metadata": {
    "collapsed": false
   },
   "outputs": [
    {
     "data": {
      "text/plain": [
       "{468882: 64, 468883: 64}"
      ]
     },
     "execution_count": 5,
     "metadata": {},
     "output_type": "execute_result"
    }
   ],
   "source": [
    "game.machines"
   ]
  },
  {
   "cell_type": "code",
   "execution_count": null,
   "metadata": {
    "collapsed": false,
    "scrolled": false
   },
   "outputs": [
    {
     "name": "stdout",
     "output_type": "stream",
     "text": [
      "in wrong assign_job loop\n",
      "sorted_machines []\n",
      "{}\n",
      "======\n",
      "======\n",
      "{'jobs': [{'turn': 1, 'turns_required': 9, 'id': 22926, 'machine_id': 468884, 'memory_required': 12, 'game_type': 'short', 'finished': False}], 'delay_turns': 0, 'current_turn': 1, 'status': 'active', 'machines_running': 0, 'jobs_running': 0, 'jobs_queued': 0, 'jobs_completed': 0}\n",
      "======\n",
      "======\n",
      "======\n",
      "======\n",
      "{'jobs': [{'turn': 2, 'turns_required': 6, 'id': 22927, 'machine_id': 468884, 'memory_required': 10, 'game_type': 'short', 'finished': False}], 'delay_turns': 0, 'current_turn': 2, 'status': 'active', 'machines_running': 1, 'jobs_running': 1, 'jobs_queued': 0, 'jobs_completed': 0}\n",
      "======\n",
      "======\n",
      "======\n",
      "======\n",
      "{'jobs': [{'turn': 3, 'turns_required': 10, 'id': 22928, 'machine_id': 468884, 'memory_required': 7, 'game_type': 'short', 'finished': False}, {'turn': 3, 'turns_required': 7, 'id': 22929, 'machine_id': 468884, 'memory_required': 2, 'game_type': 'short', 'finished': False}], 'delay_turns': 0, 'current_turn': 3, 'status': 'active', 'machines_running': 1, 'jobs_running': 2, 'jobs_queued': 0, 'jobs_completed': 0}\n",
      "======\n",
      "======\n",
      "======\n",
      "======\n",
      "{'jobs': [{'turn': 4, 'turns_required': 2, 'id': 22930, 'machine_id': 468884, 'memory_required': 9, 'game_type': 'short', 'finished': False}, {'turn': 4, 'turns_required': 5, 'id': 22931, 'machine_id': 468884, 'memory_required': 2, 'game_type': 'short', 'finished': False}, {'turn': 4, 'turns_required': 2, 'id': 22932, 'machine_id': 468884, 'memory_required': 12, 'game_type': 'short', 'finished': False}], 'delay_turns': 0, 'current_turn': 4, 'status': 'active', 'machines_running': 1, 'jobs_running': 4, 'jobs_queued': 0, 'jobs_completed': 0}\n",
      "======\n",
      "======\n",
      "======\n",
      "======\n",
      "{'jobs': [{'turn': 5, 'turns_required': 4, 'id': 22933, 'machine_id': 468884, 'memory_required': 15, 'game_type': 'short', 'finished': False}, {'turn': 5, 'turns_required': 6, 'id': 22934, 'machine_id': 468884, 'memory_required': 16, 'game_type': 'short', 'finished': False}, {'turn': 5, 'turns_required': 8, 'id': 22935, 'machine_id': 468884, 'memory_required': 14, 'game_type': 'short', 'finished': False}, {'turn': 5, 'turns_required': 10, 'id': 22936, 'machine_id': 468884, 'memory_required': 2, 'game_type': 'short', 'finished': False}], 'delay_turns': 0, 'current_turn': 5, 'status': 'active', 'machines_running': 1, 'jobs_running': 7, 'jobs_queued': 0, 'jobs_completed': 0}\n",
      "======\n",
      "======\n",
      "======\n",
      "======\n",
      "{'jobs': [{'turn': 6, 'turns_required': 1, 'id': 22937, 'machine_id': 468884, 'memory_required': 14, 'game_type': 'short', 'finished': False}, {'turn': 6, 'turns_required': 3, 'id': 22938, 'machine_id': 468884, 'memory_required': 11, 'game_type': 'short', 'finished': False}, {'turn': 6, 'turns_required': 10, 'id': 22939, 'machine_id': 468884, 'memory_required': 13, 'game_type': 'short', 'finished': False}, {'turn': 6, 'turns_required': 9, 'id': 22940, 'machine_id': 468884, 'memory_required': 8, 'game_type': 'short', 'finished': False}], 'delay_turns': 2, 'current_turn': 6, 'status': 'active', 'machines_running': 1, 'jobs_running': 7, 'jobs_queued': 2, 'jobs_completed': 2}\n",
      "======\n",
      "======\n",
      "======\n",
      "======\n",
      "{'jobs': [{'turn': 7, 'turns_required': 3, 'id': 22941, 'machine_id': 468884, 'memory_required': 5, 'game_type': 'short', 'finished': False}, {'turn': 7, 'turns_required': 8, 'id': 22942, 'machine_id': 468884, 'memory_required': 15, 'game_type': 'short', 'finished': False}, {'turn': 7, 'turns_required': 1, 'id': 22943, 'machine_id': 468884, 'memory_required': 6, 'game_type': 'short', 'finished': False}, {'turn': 7, 'turns_required': 9, 'id': 22944, 'machine_id': 468884, 'memory_required': 4, 'game_type': 'short', 'finished': False}, {'turn': 7, 'turns_required': 8, 'id': 22945, 'machine_id': 468884, 'memory_required': 3, 'game_type': 'short', 'finished': False}], 'delay_turns': 2, 'current_turn': 7, 'status': 'active', 'machines_running': 1, 'jobs_running': 7, 'jobs_queued': 6, 'jobs_completed': 2}\n",
      "======\n",
      "======\n",
      "======\n",
      "======\n",
      "{'jobs': [{'turn': 8, 'turns_required': 2, 'id': 22946, 'machine_id': 468884, 'memory_required': 4, 'game_type': 'short', 'finished': False}, {'turn': 8, 'turns_required': 8, 'id': 22947, 'machine_id': 468884, 'memory_required': 14, 'game_type': 'short', 'finished': False}, {'turn': 8, 'turns_required': 9, 'id': 22948, 'machine_id': 468884, 'memory_required': 9, 'game_type': 'short', 'finished': False}, {'turn': 8, 'turns_required': 1, 'id': 22949, 'machine_id': 468884, 'memory_required': 7, 'game_type': 'short', 'finished': False}, {'turn': 8, 'turns_required': 8, 'id': 22950, 'machine_id': 468884, 'memory_required': 12, 'game_type': 'short', 'finished': False}, {'turn': 8, 'turns_required': 5, 'id': 22951, 'machine_id': 468884, 'memory_required': 10, 'game_type': 'short', 'finished': False}], 'delay_turns': 2, 'current_turn': 8, 'status': 'active', 'machines_running': 1, 'jobs_running': 6, 'jobs_queued': 11, 'jobs_completed': 3}\n",
      "======\n",
      "======\n",
      "======\n",
      "======\n",
      "{'jobs': [{'turn': 9, 'turns_required': 5, 'id': 22952, 'machine_id': 468884, 'memory_required': 9, 'game_type': 'short', 'finished': False}, {'turn': 9, 'turns_required': 2, 'id': 22953, 'machine_id': 468884, 'memory_required': 5, 'game_type': 'short', 'finished': False}, {'turn': 9, 'turns_required': 8, 'id': 22954, 'machine_id': 468884, 'memory_required': 16, 'game_type': 'short', 'finished': False}, {'turn': 9, 'turns_required': 1, 'id': 22955, 'machine_id': 468884, 'memory_required': 4, 'game_type': 'short', 'finished': False}, {'turn': 9, 'turns_required': 4, 'id': 22956, 'machine_id': 468884, 'memory_required': 13, 'game_type': 'short', 'finished': False}, {'turn': 9, 'turns_required': 10, 'id': 22957, 'machine_id': 468884, 'memory_required': 16, 'game_type': 'short', 'finished': False}, {'turn': 9, 'turns_required': 5, 'id': 22958, 'machine_id': 468884, 'memory_required': 5, 'game_type': 'short', 'finished': False}], 'delay_turns': 2, 'current_turn': 9, 'status': 'active', 'machines_running': 1, 'jobs_running': 5, 'jobs_queued': 17, 'jobs_completed': 4}\n",
      "======\n",
      "======\n",
      "======\n",
      "======\n",
      "{'jobs': [{'turn': 10, 'turns_required': 1, 'id': 22959, 'machine_id': 468884, 'memory_required': 12, 'game_type': 'short', 'finished': False}, {'turn': 10, 'turns_required': 8, 'id': 22960, 'machine_id': 468884, 'memory_required': 4, 'game_type': 'short', 'finished': False}, {'turn': 10, 'turns_required': 1, 'id': 22961, 'machine_id': 468884, 'memory_required': 7, 'game_type': 'short', 'finished': False}, {'turn': 10, 'turns_required': 5, 'id': 22962, 'machine_id': 468884, 'memory_required': 11, 'game_type': 'short', 'finished': False}, {'turn': 10, 'turns_required': 6, 'id': 22963, 'machine_id': 468884, 'memory_required': 4, 'game_type': 'short', 'finished': False}, {'turn': 10, 'turns_required': 3, 'id': 22964, 'machine_id': 468884, 'memory_required': 11, 'game_type': 'short', 'finished': False}, {'turn': 10, 'turns_required': 4, 'id': 22965, 'machine_id': 468884, 'memory_required': 13, 'game_type': 'short', 'finished': False}, {'turn': 10, 'turns_required': 5, 'id': 22966, 'machine_id': 468884, 'memory_required': 14, 'game_type': 'short', 'finished': False}], 'delay_turns': 20, 'current_turn': 10, 'status': 'active', 'machines_running': 1, 'jobs_running': 6, 'jobs_queued': 20, 'jobs_completed': 7}\n",
      "======\n",
      "======\n",
      "======\n",
      "======\n",
      "{'jobs': [{'turn': 11, 'turns_required': 6, 'id': 22967, 'machine_id': 468884, 'memory_required': 4, 'game_type': 'short', 'finished': False}, {'turn': 11, 'turns_required': 8, 'id': 22968, 'machine_id': 468884, 'memory_required': 3, 'game_type': 'short', 'finished': False}, {'turn': 11, 'turns_required': 6, 'id': 22969, 'machine_id': 468884, 'memory_required': 16, 'game_type': 'short', 'finished': False}, {'turn': 11, 'turns_required': 10, 'id': 22970, 'machine_id': 468884, 'memory_required': 8, 'game_type': 'short', 'finished': False}, {'turn': 11, 'turns_required': 2, 'id': 22971, 'machine_id': 468884, 'memory_required': 1, 'game_type': 'short', 'finished': False}, {'turn': 11, 'turns_required': 3, 'id': 22972, 'machine_id': 468884, 'memory_required': 3, 'game_type': 'short', 'finished': False}, {'turn': 11, 'turns_required': 4, 'id': 22973, 'machine_id': 468884, 'memory_required': 11, 'game_type': 'short', 'finished': False}, {'turn': 11, 'turns_required': 4, 'id': 22974, 'machine_id': 468884, 'memory_required': 14, 'game_type': 'short', 'finished': False}], 'delay_turns': 25, 'current_turn': 11, 'status': 'active', 'machines_running': 1, 'jobs_running': 6, 'jobs_queued': 27, 'jobs_completed': 8}\n",
      "======\n",
      "======\n",
      "======\n",
      "======\n",
      "{'jobs': [{'turn': 12, 'turns_required': 10, 'id': 22975, 'machine_id': 468884, 'memory_required': 5, 'game_type': 'short', 'finished': False}, {'turn': 12, 'turns_required': 8, 'id': 22976, 'machine_id': 468884, 'memory_required': 6, 'game_type': 'short', 'finished': False}, {'turn': 12, 'turns_required': 5, 'id': 22977, 'machine_id': 468884, 'memory_required': 4, 'game_type': 'short', 'finished': False}, {'turn': 12, 'turns_required': 2, 'id': 22978, 'machine_id': 468884, 'memory_required': 11, 'game_type': 'short', 'finished': False}, {'turn': 12, 'turns_required': 10, 'id': 22979, 'machine_id': 468884, 'memory_required': 4, 'game_type': 'short', 'finished': False}, {'turn': 12, 'turns_required': 1, 'id': 22980, 'machine_id': 468884, 'memory_required': 6, 'game_type': 'short', 'finished': False}, {'turn': 12, 'turns_required': 8, 'id': 22981, 'machine_id': 468884, 'memory_required': 5, 'game_type': 'short', 'finished': False}, {'turn': 12, 'turns_required': 1, 'id': 22982, 'machine_id': 468884, 'memory_required': 4, 'game_type': 'short', 'finished': False}, {'turn': 12, 'turns_required': 5, 'id': 22983, 'machine_id': 468884, 'memory_required': 12, 'game_type': 'short', 'finished': False}], 'delay_turns': 41, 'current_turn': 12, 'status': 'active', 'machines_running': 1, 'jobs_running': 8, 'jobs_queued': 32, 'jobs_completed': 9}\n",
      "======\n",
      "======\n",
      "======\n",
      "======\n",
      "{'jobs': [{'turn': 13, 'turns_required': 5, 'id': 22984, 'machine_id': 468884, 'memory_required': 4, 'game_type': 'short', 'finished': False}, {'turn': 13, 'turns_required': 1, 'id': 22985, 'machine_id': 468884, 'memory_required': 15, 'game_type': 'short', 'finished': False}, {'turn': 13, 'turns_required': 8, 'id': 22986, 'machine_id': 468884, 'memory_required': 3, 'game_type': 'short', 'finished': False}, {'turn': 13, 'turns_required': 8, 'id': 22987, 'machine_id': 468884, 'memory_required': 6, 'game_type': 'short', 'finished': False}, {'turn': 13, 'turns_required': 4, 'id': 22988, 'machine_id': 468884, 'memory_required': 1, 'game_type': 'short', 'finished': False}, {'turn': 13, 'turns_required': 9, 'id': 22989, 'machine_id': 468884, 'memory_required': 7, 'game_type': 'short', 'finished': False}, {'turn': 13, 'turns_required': 5, 'id': 22990, 'machine_id': 468884, 'memory_required': 14, 'game_type': 'short', 'finished': False}, {'turn': 13, 'turns_required': 6, 'id': 22991, 'machine_id': 468884, 'memory_required': 7, 'game_type': 'short', 'finished': False}, {'turn': 13, 'turns_required': 10, 'id': 22992, 'machine_id': 468884, 'memory_required': 9, 'game_type': 'short', 'finished': False}, {'turn': 13, 'turns_required': 3, 'id': 22993, 'machine_id': 468884, 'memory_required': 8, 'game_type': 'short', 'finished': False}], 'delay_turns': 53, 'current_turn': 13, 'status': 'active', 'machines_running': 1, 'jobs_running': 8, 'jobs_queued': 39, 'jobs_completed': 11}\n",
      "======\n",
      "======\n",
      "======\n",
      "======\n",
      "{'jobs': [{'turn': 14, 'turns_required': 8, 'id': 22994, 'machine_id': 468884, 'memory_required': 15, 'game_type': 'short', 'finished': False}, {'turn': 14, 'turns_required': 7, 'id': 22995, 'machine_id': 468884, 'memory_required': 13, 'game_type': 'short', 'finished': False}, {'turn': 14, 'turns_required': 9, 'id': 22996, 'machine_id': 468884, 'memory_required': 12, 'game_type': 'short', 'finished': False}, {'turn': 14, 'turns_required': 9, 'id': 22997, 'machine_id': 468884, 'memory_required': 12, 'game_type': 'short', 'finished': False}, {'turn': 14, 'turns_required': 1, 'id': 22998, 'machine_id': 468884, 'memory_required': 11, 'game_type': 'short', 'finished': False}, {'turn': 14, 'turns_required': 1, 'id': 22999, 'machine_id': 468884, 'memory_required': 13, 'game_type': 'short', 'finished': False}, {'turn': 14, 'turns_required': 7, 'id': 23000, 'machine_id': 468884, 'memory_required': 13, 'game_type': 'short', 'finished': False}, {'turn': 14, 'turns_required': 3, 'id': 23001, 'machine_id': 468884, 'memory_required': 13, 'game_type': 'short', 'finished': False}, {'turn': 14, 'turns_required': 5, 'id': 23002, 'machine_id': 468884, 'memory_required': 7, 'game_type': 'short', 'finished': False}, {'turn': 14, 'turns_required': 7, 'id': 23003, 'machine_id': 468884, 'memory_required': 3, 'game_type': 'short', 'finished': False}, {'turn': 14, 'turns_required': 8, 'id': 23004, 'machine_id': 468884, 'memory_required': 1, 'game_type': 'short', 'finished': False}], 'delay_turns': 53, 'current_turn': 14, 'status': 'active', 'machines_running': 1, 'jobs_running': 8, 'jobs_queued': 49, 'jobs_completed': 11}\n",
      "======\n",
      "======\n",
      "======\n",
      "======\n",
      "{'jobs': [{'turn': 15, 'turns_required': 3, 'id': 23005, 'machine_id': 468884, 'memory_required': 8, 'game_type': 'short', 'finished': False}, {'turn': 15, 'turns_required': 9, 'id': 23006, 'machine_id': 468884, 'memory_required': 1, 'game_type': 'short', 'finished': False}, {'turn': 15, 'turns_required': 6, 'id': 23007, 'machine_id': 468884, 'memory_required': 7, 'game_type': 'short', 'finished': False}, {'turn': 15, 'turns_required': 5, 'id': 23008, 'machine_id': 468884, 'memory_required': 15, 'game_type': 'short', 'finished': False}, {'turn': 15, 'turns_required': 7, 'id': 23009, 'machine_id': 468884, 'memory_required': 3, 'game_type': 'short', 'finished': False}, {'turn': 15, 'turns_required': 3, 'id': 23010, 'machine_id': 468884, 'memory_required': 11, 'game_type': 'short', 'finished': False}, {'turn': 15, 'turns_required': 2, 'id': 23011, 'machine_id': 468884, 'memory_required': 8, 'game_type': 'short', 'finished': False}, {'turn': 15, 'turns_required': 5, 'id': 23012, 'machine_id': 468884, 'memory_required': 14, 'game_type': 'short', 'finished': False}, {'turn': 15, 'turns_required': 8, 'id': 23013, 'machine_id': 468884, 'memory_required': 5, 'game_type': 'short', 'finished': False}, {'turn': 15, 'turns_required': 4, 'id': 23014, 'machine_id': 468884, 'memory_required': 13, 'game_type': 'short', 'finished': False}, {'turn': 15, 'turns_required': 1, 'id': 23015, 'machine_id': 468884, 'memory_required': 10, 'game_type': 'short', 'finished': False}, {'turn': 15, 'turns_required': 2, 'id': 23016, 'machine_id': 468884, 'memory_required': 3, 'game_type': 'short', 'finished': False}], 'delay_turns': 53, 'current_turn': 15, 'status': 'active', 'machines_running': 1, 'jobs_running': 8, 'jobs_queued': 60, 'jobs_completed': 11}\n",
      "======\n",
      "======\n",
      "======\n",
      "======\n",
      "{'jobs': [{'turn': 16, 'turns_required': 3, 'id': 23017, 'machine_id': 468884, 'memory_required': 8, 'game_type': 'short', 'finished': False}, {'turn': 16, 'turns_required': 6, 'id': 23018, 'machine_id': 468884, 'memory_required': 11, 'game_type': 'short', 'finished': False}, {'turn': 16, 'turns_required': 7, 'id': 23019, 'machine_id': 468884, 'memory_required': 11, 'game_type': 'short', 'finished': False}, {'turn': 16, 'turns_required': 10, 'id': 23020, 'machine_id': 468884, 'memory_required': 15, 'game_type': 'short', 'finished': False}, {'turn': 16, 'turns_required': 7, 'id': 23021, 'machine_id': 468884, 'memory_required': 14, 'game_type': 'short', 'finished': False}, {'turn': 16, 'turns_required': 6, 'id': 23022, 'machine_id': 468884, 'memory_required': 8, 'game_type': 'short', 'finished': False}, {'turn': 16, 'turns_required': 1, 'id': 23023, 'machine_id': 468884, 'memory_required': 1, 'game_type': 'short', 'finished': False}, {'turn': 16, 'turns_required': 2, 'id': 23024, 'machine_id': 468884, 'memory_required': 2, 'game_type': 'short', 'finished': False}, {'turn': 16, 'turns_required': 10, 'id': 23025, 'machine_id': 468884, 'memory_required': 8, 'game_type': 'short', 'finished': False}, {'turn': 16, 'turns_required': 10, 'id': 23026, 'machine_id': 468884, 'memory_required': 3, 'game_type': 'short', 'finished': False}, {'turn': 16, 'turns_required': 4, 'id': 23027, 'machine_id': 468884, 'memory_required': 6, 'game_type': 'short', 'finished': False}, {'turn': 16, 'turns_required': 4, 'id': 23028, 'machine_id': 468884, 'memory_required': 8, 'game_type': 'short', 'finished': False}], 'delay_turns': 53, 'current_turn': 16, 'status': 'active', 'machines_running': 1, 'jobs_running': 7, 'jobs_queued': 72, 'jobs_completed': 12}\n",
      "======\n",
      "======\n",
      "======\n",
      "======\n",
      "{'jobs': [{'turn': 17, 'turns_required': 7, 'id': 23029, 'machine_id': 468884, 'memory_required': 16, 'game_type': 'short', 'finished': False}, {'turn': 17, 'turns_required': 7, 'id': 23030, 'machine_id': 468884, 'memory_required': 16, 'game_type': 'short', 'finished': False}, {'turn': 17, 'turns_required': 5, 'id': 23031, 'machine_id': 468884, 'memory_required': 2, 'game_type': 'short', 'finished': False}, {'turn': 17, 'turns_required': 2, 'id': 23032, 'machine_id': 468884, 'memory_required': 6, 'game_type': 'short', 'finished': False}, {'turn': 17, 'turns_required': 5, 'id': 23033, 'machine_id': 468884, 'memory_required': 1, 'game_type': 'short', 'finished': False}, {'turn': 17, 'turns_required': 4, 'id': 23034, 'machine_id': 468884, 'memory_required': 11, 'game_type': 'short', 'finished': False}, {'turn': 17, 'turns_required': 8, 'id': 23035, 'machine_id': 468884, 'memory_required': 9, 'game_type': 'short', 'finished': False}, {'turn': 17, 'turns_required': 7, 'id': 23036, 'machine_id': 468884, 'memory_required': 13, 'game_type': 'short', 'finished': False}, {'turn': 17, 'turns_required': 9, 'id': 23037, 'machine_id': 468884, 'memory_required': 6, 'game_type': 'short', 'finished': False}, {'turn': 17, 'turns_required': 4, 'id': 23038, 'machine_id': 468884, 'memory_required': 7, 'game_type': 'short', 'finished': False}, {'turn': 17, 'turns_required': 6, 'id': 23039, 'machine_id': 468884, 'memory_required': 12, 'game_type': 'short', 'finished': False}, {'turn': 17, 'turns_required': 6, 'id': 23040, 'machine_id': 468884, 'memory_required': 15, 'game_type': 'short', 'finished': False}, {'turn': 17, 'turns_required': 3, 'id': 23041, 'machine_id': 468884, 'memory_required': 5, 'game_type': 'short', 'finished': False}], 'delay_turns': 53, 'current_turn': 17, 'status': 'active', 'machines_running': 1, 'jobs_running': 7, 'jobs_queued': 84, 'jobs_completed': 12}\n",
      "======\n",
      "======\n",
      "======\n",
      "======\n",
      "{'jobs': [{'turn': 18, 'turns_required': 10, 'id': 23042, 'machine_id': 468884, 'memory_required': 7, 'game_type': 'short', 'finished': False}, {'turn': 18, 'turns_required': 1, 'id': 23043, 'machine_id': 468884, 'memory_required': 8, 'game_type': 'short', 'finished': False}, {'turn': 18, 'turns_required': 9, 'id': 23044, 'machine_id': 468884, 'memory_required': 12, 'game_type': 'short', 'finished': False}, {'turn': 18, 'turns_required': 3, 'id': 23045, 'machine_id': 468884, 'memory_required': 4, 'game_type': 'short', 'finished': False}, {'turn': 18, 'turns_required': 3, 'id': 23046, 'machine_id': 468884, 'memory_required': 16, 'game_type': 'short', 'finished': False}, {'turn': 18, 'turns_required': 6, 'id': 23047, 'machine_id': 468884, 'memory_required': 15, 'game_type': 'short', 'finished': False}, {'turn': 18, 'turns_required': 1, 'id': 23048, 'machine_id': 468884, 'memory_required': 5, 'game_type': 'short', 'finished': False}, {'turn': 18, 'turns_required': 5, 'id': 23049, 'machine_id': 468884, 'memory_required': 5, 'game_type': 'short', 'finished': False}, {'turn': 18, 'turns_required': 7, 'id': 23050, 'machine_id': 468884, 'memory_required': 11, 'game_type': 'short', 'finished': False}, {'turn': 18, 'turns_required': 1, 'id': 23051, 'machine_id': 468884, 'memory_required': 6, 'game_type': 'short', 'finished': False}, {'turn': 18, 'turns_required': 3, 'id': 23052, 'machine_id': 468884, 'memory_required': 2, 'game_type': 'short', 'finished': False}, {'turn': 18, 'turns_required': 8, 'id': 23053, 'machine_id': 468884, 'memory_required': 16, 'game_type': 'short', 'finished': False}, {'turn': 18, 'turns_required': 4, 'id': 23054, 'machine_id': 468884, 'memory_required': 16, 'game_type': 'short', 'finished': False}, {'turn': 18, 'turns_required': 9, 'id': 23055, 'machine_id': 468884, 'memory_required': 11, 'game_type': 'short', 'finished': False}], 'delay_turns': 74, 'current_turn': 18, 'status': 'active', 'machines_running': 1, 'jobs_running': 8, 'jobs_queued': 95, 'jobs_completed': 13}\n",
      "======\n",
      "======\n",
      "======\n",
      "======\n",
      "{'jobs': [{'turn': 19, 'turns_required': 1, 'id': 23056, 'machine_id': 468884, 'memory_required': 4, 'game_type': 'short', 'finished': False}, {'turn': 19, 'turns_required': 6, 'id': 23057, 'machine_id': 468884, 'memory_required': 9, 'game_type': 'short', 'finished': False}, {'turn': 19, 'turns_required': 2, 'id': 23058, 'machine_id': 468884, 'memory_required': 16, 'game_type': 'short', 'finished': False}, {'turn': 19, 'turns_required': 5, 'id': 23059, 'machine_id': 468884, 'memory_required': 15, 'game_type': 'short', 'finished': False}, {'turn': 19, 'turns_required': 10, 'id': 23060, 'machine_id': 468884, 'memory_required': 16, 'game_type': 'short', 'finished': False}, {'turn': 19, 'turns_required': 7, 'id': 23061, 'machine_id': 468884, 'memory_required': 7, 'game_type': 'short', 'finished': False}, {'turn': 19, 'turns_required': 10, 'id': 23062, 'machine_id': 468884, 'memory_required': 12, 'game_type': 'short', 'finished': False}, {'turn': 19, 'turns_required': 2, 'id': 23063, 'machine_id': 468884, 'memory_required': 3, 'game_type': 'short', 'finished': False}, {'turn': 19, 'turns_required': 6, 'id': 23064, 'machine_id': 468884, 'memory_required': 8, 'game_type': 'short', 'finished': False}, {'turn': 19, 'turns_required': 1, 'id': 23065, 'machine_id': 468884, 'memory_required': 12, 'game_type': 'short', 'finished': False}, {'turn': 19, 'turns_required': 5, 'id': 23066, 'machine_id': 468884, 'memory_required': 1, 'game_type': 'short', 'finished': False}, {'turn': 19, 'turns_required': 1, 'id': 23067, 'machine_id': 468884, 'memory_required': 7, 'game_type': 'short', 'finished': False}, {'turn': 19, 'turns_required': 5, 'id': 23068, 'machine_id': 468884, 'memory_required': 1, 'game_type': 'short', 'finished': False}, {'turn': 19, 'turns_required': 3, 'id': 23069, 'machine_id': 468884, 'memory_required': 7, 'game_type': 'short', 'finished': False}, {'turn': 19, 'turns_required': 3, 'id': 23070, 'machine_id': 468884, 'memory_required': 1, 'game_type': 'short', 'finished': False}], 'delay_turns': 85, 'current_turn': 19, 'status': 'active', 'machines_running': 1, 'jobs_running': 8, 'jobs_queued': 108, 'jobs_completed': 14}\n",
      "======\n",
      "======\n",
      "======\n",
      "======\n",
      "{'jobs': [{'turn': 20, 'turns_required': 7, 'id': 23071, 'machine_id': 468884, 'memory_required': 1, 'game_type': 'short', 'finished': False}, {'turn': 20, 'turns_required': 5, 'id': 23072, 'machine_id': 468884, 'memory_required': 13, 'game_type': 'short', 'finished': False}, {'turn': 20, 'turns_required': 4, 'id': 23073, 'machine_id': 468884, 'memory_required': 16, 'game_type': 'short', 'finished': False}, {'turn': 20, 'turns_required': 4, 'id': 23074, 'machine_id': 468884, 'memory_required': 1, 'game_type': 'short', 'finished': False}, {'turn': 20, 'turns_required': 2, 'id': 23075, 'machine_id': 468884, 'memory_required': 4, 'game_type': 'short', 'finished': False}, {'turn': 20, 'turns_required': 4, 'id': 23076, 'machine_id': 468884, 'memory_required': 2, 'game_type': 'short', 'finished': False}, {'turn': 20, 'turns_required': 8, 'id': 23077, 'machine_id': 468884, 'memory_required': 14, 'game_type': 'short', 'finished': False}, {'turn': 20, 'turns_required': 7, 'id': 23078, 'machine_id': 468884, 'memory_required': 10, 'game_type': 'short', 'finished': False}, {'turn': 20, 'turns_required': 6, 'id': 23079, 'machine_id': 468884, 'memory_required': 8, 'game_type': 'short', 'finished': False}, {'turn': 20, 'turns_required': 10, 'id': 23080, 'machine_id': 468884, 'memory_required': 5, 'game_type': 'short', 'finished': False}, {'turn': 20, 'turns_required': 6, 'id': 23081, 'machine_id': 468884, 'memory_required': 15, 'game_type': 'short', 'finished': False}, {'turn': 20, 'turns_required': 7, 'id': 23082, 'machine_id': 468884, 'memory_required': 12, 'game_type': 'short', 'finished': False}, {'turn': 20, 'turns_required': 10, 'id': 23083, 'machine_id': 468884, 'memory_required': 4, 'game_type': 'short', 'finished': False}, {'turn': 20, 'turns_required': 7, 'id': 23084, 'machine_id': 468884, 'memory_required': 9, 'game_type': 'short', 'finished': False}, {'turn': 20, 'turns_required': 8, 'id': 23085, 'machine_id': 468884, 'memory_required': 7, 'game_type': 'short', 'finished': False}, {'turn': 20, 'turns_required': 8, 'id': 23086, 'machine_id': 468884, 'memory_required': 14, 'game_type': 'short', 'finished': False}], 'delay_turns': 97, 'current_turn': 20, 'status': 'active', 'machines_running': 1, 'jobs_running': 6, 'jobs_queued': 122, 'jobs_completed': 17}\n",
      "======\n",
      "======\n",
      "======\n",
      "======\n",
      "{'jobs': [{'turn': 21, 'turns_required': 10, 'id': 23087, 'machine_id': 468884, 'memory_required': 4, 'game_type': 'short', 'finished': False}, {'turn': 21, 'turns_required': 10, 'id': 23088, 'machine_id': 468884, 'memory_required': 7, 'game_type': 'short', 'finished': False}, {'turn': 21, 'turns_required': 8, 'id': 23089, 'machine_id': 468884, 'memory_required': 9, 'game_type': 'short', 'finished': False}, {'turn': 21, 'turns_required': 9, 'id': 23090, 'machine_id': 468884, 'memory_required': 14, 'game_type': 'short', 'finished': False}, {'turn': 21, 'turns_required': 1, 'id': 23091, 'machine_id': 468884, 'memory_required': 11, 'game_type': 'short', 'finished': False}, {'turn': 21, 'turns_required': 7, 'id': 23092, 'machine_id': 468884, 'memory_required': 7, 'game_type': 'short', 'finished': False}, {'turn': 21, 'turns_required': 3, 'id': 23093, 'machine_id': 468884, 'memory_required': 7, 'game_type': 'short', 'finished': False}, {'turn': 21, 'turns_required': 8, 'id': 23094, 'machine_id': 468884, 'memory_required': 9, 'game_type': 'short', 'finished': False}, {'turn': 21, 'turns_required': 2, 'id': 23095, 'machine_id': 468884, 'memory_required': 13, 'game_type': 'short', 'finished': False}, {'turn': 21, 'turns_required': 9, 'id': 23096, 'machine_id': 468884, 'memory_required': 5, 'game_type': 'short', 'finished': False}, {'turn': 21, 'turns_required': 5, 'id': 23097, 'machine_id': 468884, 'memory_required': 16, 'game_type': 'short', 'finished': False}, {'turn': 21, 'turns_required': 3, 'id': 23098, 'machine_id': 468884, 'memory_required': 13, 'game_type': 'short', 'finished': False}, {'turn': 21, 'turns_required': 1, 'id': 23099, 'machine_id': 468884, 'memory_required': 11, 'game_type': 'short', 'finished': False}, {'turn': 21, 'turns_required': 1, 'id': 23100, 'machine_id': 468884, 'memory_required': 3, 'game_type': 'short', 'finished': False}, {'turn': 21, 'turns_required': 2, 'id': 23101, 'machine_id': 468884, 'memory_required': 8, 'game_type': 'short', 'finished': False}, {'turn': 21, 'turns_required': 6, 'id': 23102, 'machine_id': 468884, 'memory_required': 7, 'game_type': 'short', 'finished': False}], 'delay_turns': 148, 'current_turn': 21, 'status': 'active', 'machines_running': 1, 'jobs_running': 6, 'jobs_queued': 134, 'jobs_completed': 21}\n",
      "======\n",
      "======\n",
      "======\n",
      "======\n",
      "{'jobs': [{'turn': 22, 'turns_required': 5, 'id': 23103, 'machine_id': 468884, 'memory_required': 9, 'game_type': 'short', 'finished': False}, {'turn': 22, 'turns_required': 5, 'id': 23104, 'machine_id': 468884, 'memory_required': 1, 'game_type': 'short', 'finished': False}, {'turn': 22, 'turns_required': 1, 'id': 23105, 'machine_id': 468884, 'memory_required': 3, 'game_type': 'short', 'finished': False}, {'turn': 22, 'turns_required': 4, 'id': 23106, 'machine_id': 468884, 'memory_required': 8, 'game_type': 'short', 'finished': False}, {'turn': 22, 'turns_required': 4, 'id': 23107, 'machine_id': 468884, 'memory_required': 13, 'game_type': 'short', 'finished': False}, {'turn': 22, 'turns_required': 3, 'id': 23108, 'machine_id': 468884, 'memory_required': 4, 'game_type': 'short', 'finished': False}, {'turn': 22, 'turns_required': 7, 'id': 23109, 'machine_id': 468884, 'memory_required': 16, 'game_type': 'short', 'finished': False}, {'turn': 22, 'turns_required': 7, 'id': 23110, 'machine_id': 468884, 'memory_required': 13, 'game_type': 'short', 'finished': False}, {'turn': 22, 'turns_required': 6, 'id': 23111, 'machine_id': 468884, 'memory_required': 6, 'game_type': 'short', 'finished': False}, {'turn': 22, 'turns_required': 2, 'id': 23112, 'machine_id': 468884, 'memory_required': 3, 'game_type': 'short', 'finished': False}, {'turn': 22, 'turns_required': 3, 'id': 23113, 'machine_id': 468884, 'memory_required': 7, 'game_type': 'short', 'finished': False}, {'turn': 22, 'turns_required': 6, 'id': 23114, 'machine_id': 468884, 'memory_required': 9, 'game_type': 'short', 'finished': False}, {'turn': 22, 'turns_required': 7, 'id': 23115, 'machine_id': 468884, 'memory_required': 11, 'game_type': 'short', 'finished': False}, {'turn': 22, 'turns_required': 9, 'id': 23116, 'machine_id': 468884, 'memory_required': 7, 'game_type': 'short', 'finished': False}, {'turn': 22, 'turns_required': 10, 'id': 23117, 'machine_id': 468884, 'memory_required': 10, 'game_type': 'short', 'finished': False}, {'turn': 22, 'turns_required': 7, 'id': 23118, 'machine_id': 468884, 'memory_required': 6, 'game_type': 'short', 'finished': False}, {'turn': 22, 'turns_required': 8, 'id': 23119, 'machine_id': 468884, 'memory_required': 12, 'game_type': 'short', 'finished': False}], 'delay_turns': 161, 'current_turn': 22, 'status': 'active', 'machines_running': 1, 'jobs_running': 6, 'jobs_queued': 149, 'jobs_completed': 22}\n",
      "======\n",
      "======\n",
      "======\n",
      "======\n",
      "{'jobs': [{'turn': 23, 'turns_required': 9, 'id': 23120, 'machine_id': 468884, 'memory_required': 11, 'game_type': 'short', 'finished': False}, {'turn': 23, 'turns_required': 8, 'id': 23121, 'machine_id': 468884, 'memory_required': 8, 'game_type': 'short', 'finished': False}, {'turn': 23, 'turns_required': 2, 'id': 23122, 'machine_id': 468884, 'memory_required': 16, 'game_type': 'short', 'finished': False}, {'turn': 23, 'turns_required': 2, 'id': 23123, 'machine_id': 468884, 'memory_required': 16, 'game_type': 'short', 'finished': False}, {'turn': 23, 'turns_required': 8, 'id': 23124, 'machine_id': 468884, 'memory_required': 3, 'game_type': 'short', 'finished': False}, {'turn': 23, 'turns_required': 10, 'id': 23125, 'machine_id': 468884, 'memory_required': 9, 'game_type': 'short', 'finished': False}, {'turn': 23, 'turns_required': 4, 'id': 23126, 'machine_id': 468884, 'memory_required': 1, 'game_type': 'short', 'finished': False}, {'turn': 23, 'turns_required': 7, 'id': 23127, 'machine_id': 468884, 'memory_required': 10, 'game_type': 'short', 'finished': False}, {'turn': 23, 'turns_required': 5, 'id': 23128, 'machine_id': 468884, 'memory_required': 16, 'game_type': 'short', 'finished': False}, {'turn': 23, 'turns_required': 1, 'id': 23129, 'machine_id': 468884, 'memory_required': 13, 'game_type': 'short', 'finished': False}, {'turn': 23, 'turns_required': 1, 'id': 23130, 'machine_id': 468884, 'memory_required': 7, 'game_type': 'short', 'finished': False}, {'turn': 23, 'turns_required': 4, 'id': 23131, 'machine_id': 468884, 'memory_required': 4, 'game_type': 'short', 'finished': False}, {'turn': 23, 'turns_required': 5, 'id': 23132, 'machine_id': 468884, 'memory_required': 6, 'game_type': 'short', 'finished': False}, {'turn': 23, 'turns_required': 1, 'id': 23133, 'machine_id': 468884, 'memory_required': 1, 'game_type': 'short', 'finished': False}, {'turn': 23, 'turns_required': 1, 'id': 23134, 'machine_id': 468884, 'memory_required': 11, 'game_type': 'short', 'finished': False}, {'turn': 23, 'turns_required': 3, 'id': 23135, 'machine_id': 468884, 'memory_required': 9, 'game_type': 'short', 'finished': False}, {'turn': 23, 'turns_required': 5, 'id': 23136, 'machine_id': 468884, 'memory_required': 1, 'game_type': 'short', 'finished': False}, {'turn': 23, 'turns_required': 10, 'id': 23137, 'machine_id': 468884, 'memory_required': 7, 'game_type': 'short', 'finished': False}], 'delay_turns': 161, 'current_turn': 23, 'status': 'active', 'machines_running': 1, 'jobs_running': 6, 'jobs_queued': 166, 'jobs_completed': 22}\n",
      "======\n",
      "======\n",
      "======\n",
      "======\n",
      "{'jobs': [{'turn': 24, 'turns_required': 3, 'id': 23138, 'machine_id': 468884, 'memory_required': 4, 'game_type': 'short', 'finished': False}, {'turn': 24, 'turns_required': 6, 'id': 23139, 'machine_id': 468884, 'memory_required': 9, 'game_type': 'short', 'finished': False}, {'turn': 24, 'turns_required': 3, 'id': 23140, 'machine_id': 468884, 'memory_required': 4, 'game_type': 'short', 'finished': False}, {'turn': 24, 'turns_required': 5, 'id': 23141, 'machine_id': 468884, 'memory_required': 7, 'game_type': 'short', 'finished': False}, {'turn': 24, 'turns_required': 3, 'id': 23142, 'machine_id': 468884, 'memory_required': 11, 'game_type': 'short', 'finished': False}, {'turn': 24, 'turns_required': 6, 'id': 23143, 'machine_id': 468884, 'memory_required': 12, 'game_type': 'short', 'finished': False}, {'turn': 24, 'turns_required': 2, 'id': 23144, 'machine_id': 468884, 'memory_required': 12, 'game_type': 'short', 'finished': False}, {'turn': 24, 'turns_required': 1, 'id': 23145, 'machine_id': 468884, 'memory_required': 4, 'game_type': 'short', 'finished': False}, {'turn': 24, 'turns_required': 4, 'id': 23146, 'machine_id': 468884, 'memory_required': 8, 'game_type': 'short', 'finished': False}, {'turn': 24, 'turns_required': 1, 'id': 23147, 'machine_id': 468884, 'memory_required': 13, 'game_type': 'short', 'finished': False}, {'turn': 24, 'turns_required': 6, 'id': 23148, 'machine_id': 468884, 'memory_required': 2, 'game_type': 'short', 'finished': False}, {'turn': 24, 'turns_required': 10, 'id': 23149, 'machine_id': 468884, 'memory_required': 16, 'game_type': 'short', 'finished': False}, {'turn': 24, 'turns_required': 4, 'id': 23150, 'machine_id': 468884, 'memory_required': 16, 'game_type': 'short', 'finished': False}, {'turn': 24, 'turns_required': 4, 'id': 23151, 'machine_id': 468884, 'memory_required': 7, 'game_type': 'short', 'finished': False}, {'turn': 24, 'turns_required': 8, 'id': 23152, 'machine_id': 468884, 'memory_required': 4, 'game_type': 'short', 'finished': False}, {'turn': 24, 'turns_required': 3, 'id': 23153, 'machine_id': 468884, 'memory_required': 6, 'game_type': 'short', 'finished': False}, {'turn': 24, 'turns_required': 4, 'id': 23154, 'machine_id': 468884, 'memory_required': 6, 'game_type': 'short', 'finished': False}, {'turn': 24, 'turns_required': 9, 'id': 23155, 'machine_id': 468884, 'memory_required': 8, 'game_type': 'short', 'finished': False}, {'turn': 24, 'turns_required': 4, 'id': 23156, 'machine_id': 468884, 'memory_required': 4, 'game_type': 'short', 'finished': False}], 'delay_turns': 161, 'current_turn': 24, 'status': 'active', 'machines_running': 1, 'jobs_running': 5, 'jobs_queued': 184, 'jobs_completed': 23}\n",
      "======\n",
      "======\n",
      "turn: 26"
     ]
    }
   ],
   "source": [
    "import job_queue\n",
    "game = job_queue.Game()\n",
    "result = game.run_show(delay=0, debug=True)"
   ]
  },
  {
   "cell_type": "code",
   "execution_count": 13,
   "metadata": {
    "collapsed": false
   },
   "outputs": [
    {
     "name": "stdout",
     "output_type": "stream",
     "text": [
      "{'updated_at': '2016-08-01T20:18:14.000Z', 'id': 16806, 'jobs_completed': 492, 'cost': 601, 'current_turn': 57, 'cost_score': 87.0, 'delay_turns': 1043, 'created_at': '2016-08-01T20:16:48.000Z', 'time_score': 100.0, 'total_score': 187.0, 'completed': True, 'short': True}\n"
     ]
    }
   ],
   "source": [
    "print(result)"
   ]
  },
  {
   "cell_type": "code",
   "execution_count": null,
   "metadata": {
    "collapsed": true
   },
   "outputs": [],
   "source": []
  }
 ],
 "metadata": {
  "kernelspec": {
   "display_name": "Python 3",
   "language": "python",
   "name": "python3"
  },
  "language_info": {
   "codemirror_mode": {
    "name": "ipython",
    "version": 3
   },
   "file_extension": ".py",
   "mimetype": "text/x-python",
   "name": "python",
   "nbconvert_exporter": "python",
   "pygments_lexer": "ipython3",
   "version": "3.5.1"
  }
 },
 "nbformat": 4,
 "nbformat_minor": 0
}
