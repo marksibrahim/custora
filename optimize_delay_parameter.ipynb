{
 "cells": [
  {
   "cell_type": "code",
   "execution_count": 1,
   "metadata": {
    "collapsed": false
   },
   "outputs": [
    {
     "name": "stderr",
     "output_type": "stream",
     "text": [
      "/usr/local/lib/python3.5/site-packages/matplotlib/__init__.py:872: UserWarning: axes.color_cycle is deprecated and replaced with axes.prop_cycle; please use the latter.\n",
      "  warnings.warn(self.msg_depr % (key, alt_key))\n"
     ]
    }
   ],
   "source": [
    "import numpy as np\n",
    "import matplotlib.pyplot as plt\n",
    "import seaborn as sns\n",
    "%matplotlib inline"
   ]
  },
  {
   "cell_type": "code",
   "execution_count": 2,
   "metadata": {
    "collapsed": false
   },
   "outputs": [],
   "source": [
    "import job_queue"
   ]
  },
  {
   "cell_type": "code",
   "execution_count": 3,
   "metadata": {
    "collapsed": false
   },
   "outputs": [
    {
     "name": "stdout",
     "output_type": "stream",
     "text": [
      "delay:  0\n",
      "jobs delayed: 0\n",
      "score:  112.0\n",
      "=========\n",
      "delay:  5\n",
      "jobs delayed: 31\n",
      "score:  120.0\n",
      "=========\n",
      "delay:  10\n",
      "jobs delayed: 21\n",
      "score:  119.0\n",
      "=========\n",
      "delay:  15\n",
      "jobs delayed: 60\n",
      "score:  126.0\n",
      "=========\n",
      "delay:  20\n",
      "jobs delayed: 71\n",
      "score:  127.0\n",
      "=========\n",
      "delay:  25\n",
      "jobs delayed: 76\n",
      "score:  126.0\n",
      "=========\n",
      "delay:  30\n",
      "jobs delayed: 136\n",
      "score:  140.0\n",
      "=========\n",
      "delay:  35\n",
      "jobs delayed: 135\n",
      "score:  141.0\n",
      "=========\n",
      "delay:  40\n",
      "jobs delayed: 141\n",
      "score:  143.0\n",
      "=========\n",
      "delay:  45\n",
      "jobs delayed: 195\n",
      "score:  152.0\n",
      "=========\n",
      "delay:  50\n",
      "jobs delayed: 176\n",
      "score:  148.0\n",
      "=========\n",
      "delay:  55\n",
      "jobs delayed: 223\n",
      "score:  160.0\n",
      "=========\n",
      "delay:  60\n",
      "jobs delayed: 244\n",
      "score:  165.0\n",
      "=========\n",
      "delay:  65\n",
      "jobs delayed: 313\n",
      "score:  185.0\n",
      "=========\n",
      "delay:  70\n",
      "jobs delayed: 316\n",
      "score:  181.0\n",
      "=========\n",
      "delay:  75\n",
      "jobs delayed: 331\n",
      "score:  186.0\n",
      "=========\n",
      "delay:  80\n",
      "jobs delayed: 378\n",
      "score:  192.0\n",
      "=========\n",
      "delay:  85\n",
      "jobs delayed: 413\n",
      "score:  188.0\n",
      "=========\n",
      "delay:  90\n",
      "jobs delayed: 429\n",
      "score:  193.0\n",
      "=========\n",
      "delay:  95\n",
      "jobs delayed: 448\n",
      "score:  158.0\n",
      "=========\n",
      "delay:  100\n",
      "jobs delayed: 483\n",
      "score:  100.0\n",
      "=========\n"
     ]
    }
   ],
   "source": [
    "results = []\n",
    "jobs_delayed = []\n",
    "for delay in range(0, 101, 5):\n",
    "    # note 0 delays all jobs (runs all on a single machine)\n",
    "    # delay =26 delays only jobs on turn 26\n",
    "    # between 0 and 26 the delay parameter delays a proporition of turns \n",
    "        # (higher delay value ==> fewer delayed turns)\n",
    "    print(\"delay: \", delay)\n",
    "    game = job_queue.Game()\n",
    "    result = game.run_show(delay=delay)\n",
    "    print(\"jobs delayed:\", game.jobs_delayed)\n",
    "    jobs_delayed.append(game.jobs_delayed)\n",
    "    results.append(result[\"total_score\"])\n",
    "    print(\"score: \", result[\"total_score\"])\n",
    "    print(\"=========\")\n",
    "    "
   ]
  },
  {
   "cell_type": "code",
   "execution_count": 11,
   "metadata": {
    "collapsed": false
   },
   "outputs": [
    {
     "data": {
      "text/plain": [
       "<matplotlib.text.Text at 0x11115a240>"
      ]
     },
     "execution_count": 11,
     "metadata": {},
     "output_type": "execute_result"
    },
    {
     "data": {
      "image/png": "[encoded data removed]",
      "text/plain": [
       "<matplotlib.figure.Figure at 0x111307cc0>"
      ]
     },
     "metadata": {},
     "output_type": "display_data"
    }
   ],
   "source": [
    "plt.plot(range(0, 101, 5), results)\n",
    "plt.title(\"Total Score Optimization\")\n",
    "plt.ylabel(\"total score\")\n",
    "plt.xlabel(\"percentage of turns delayed\")"
   ]
  },
  {
   "cell_type": "code",
   "execution_count": 10,
   "metadata": {
    "collapsed": false
   },
   "outputs": [
    {
     "data": {
      "text/plain": [
       "<matplotlib.text.Text at 0x11123bb70>"
      ]
     },
     "execution_count": 10,
     "metadata": {},
     "output_type": "execute_result"
    },
    {
     "data": {
      "image/png": "[encoded data removed]",
      "text/plain": [
       "<matplotlib.figure.Figure at 0x11120ff98>"
      ]
     },
     "metadata": {},
     "output_type": "display_data"
    }
   ],
   "source": [
    "plt.plot(jobs_delayed, results)\n",
    "plt.title(\"Total Score Optimization\")\n",
    "plt.ylabel(\"total score\")\n",
    "plt.xlabel(\"number of jobs delayed\")"
   ]
  },
  {
   "cell_type": "code",
   "execution_count": null,
   "metadata": {
    "collapsed": true
   },
   "outputs": [],
   "source": []
  }
 ],
 "metadata": {
  "kernelspec": {
   "display_name": "Python 3",
   "language": "python",
   "name": "python3"
  },
  "language_info": {
   "codemirror_mode": {
    "name": "ipython",
    "version": 3
   },
   "file_extension": ".py",
   "mimetype": "text/x-python",
   "name": "python",
   "nbconvert_exporter": "python",
   "pygments_lexer": "ipython3",
   "version": "3.5.1"
  }
 },
 "nbformat": 4,
 "nbformat_minor": 0
}
